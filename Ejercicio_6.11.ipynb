{
 "cells": [
  {
   "cell_type": "markdown",
   "metadata": {},
   "source": [
    "# Ejercicio 6.11\n",
    "\n",
    "El metodo de relajación ordinario implica interar la ecuación $x{}'=f(x)$, empezando de una conjetura inicial, hasta que converga. Como hemos visto, esto es a menudo una manera facil y rapida para encontrar soluciones de ecuaciones no lineares. Sin embargo, es posible que en algunos casos se puede hacer que el metodo trabaje aun mas rapido usando la tecnica de overrelajacion. Suponga nuestra conjetura inicial como la solución de una ecuación en particular, por decir, $x=1$, y la solución final y verdadera es $x=5$. Despues el primer paso del proceso iterativo, podriamos entonces ver una valor de, digamos, $x=3$. En el metodo de overrelajacion, nosotros observamos este valor y notamos que $x$ se esta incrementando, entonces nosotros deliberadamente excedemos el valor calculado, en la esperanza de que esto nos lleve mas cerca de la solución final -en este caso podriamos pasar por alto $x=3$ e ir directamente a un valor de $x=4$ quizas, el cual es mas cercano a la solución fianl de $x=5$ y por lo tanto deberia obtener esa solución mas rapido. El metodo de overrelajación proporciona una formula para llevar a cabo este tipo de exceso en una moda contralada y a menudo, aunque no siempre, obtener la solución mas rapido. En detalle, esto trabaja como lo siguiente.\n",
    "\n",
    "Nosotros podemos reescribir la ecuación $x{}'=f(x)$ en la forma $x{}'=x+\\triangle x$, donde\n",
    "\n",
    "\\begin{equation}\n",
    "\\triangle x=x{}'-x=f(x)-x\n",
    "\\end{equation}\n",
    "\n",
    "El metodo de overrelajación implica la iteración de la ecuación modificada\n",
    "\n",
    "\\begin{equation}\n",
    "x{}'=x+(1+\\omega )\\triangle x\n",
    "\\end{equation}\n",
    "\n",
    "(conservando la definición de $\\triangle x$ igual). Si el parametro $/omega $ es cero, entonces esto es lo misma a el metodo de relajación ordianrio, pero para $\\omega >0$ el metodo toma la cantidad $\\triangle x$ para el cual el valor de $x$ habria sido cambiado y cambia por un poco mas. Usando $\\triangle x=f(x)-x$, podemos escribir $x{}'$ como\n",
    "\n",
    "\\begin{equation}\n",
    "x{}'=x+(1+\\omega )[f(x)-x]=(1+\\omega )f(x)-\\omega x\n",
    "\\end{equation}\n",
    "\n",
    "la cual es la forma en la que es usualmente escrita.\n",
    "\n",
    "Para el metodo a trabajar el valor de $\\omega $ debe ser elegido corectamente, apesar de que hay alguna sala de maniobra -hay un valor optimo, pero otro valor cercano a el dara tipicamente buenos resultado. Desafortunadamente, no hay una teoria general que nos diga cual es el valor optimo. Usualmente se encuentra por prueba y error.\n",
    "\n",
    "**a)** Derive una ecuación equivalente a la ecuación Eq.(6.81) para el metodo de overrelajación y por lo tanto muestre que el error en $x{}'$, el equivalente a la Eq.(6.83), esta dada por\n",
    "\n",
    "\\begin{equation}\n",
    "\\epsilon {}'\\simeq \\frac{x-x{}'}{1-1/[(1+\\omega )f{}'(x)-\\omega)]}\n",
    "\\end{equation}\n",
    "\n",
    "**b)** Considere de nuevo la ecuación $x=1-e^{-cx}$ que resolvimos en el Ejercicio 6.10. Tome el programa que escribio en la parte (a) de el ejercicio, que resuelve la ecuación para el caso $c=2$, y modifiquelo para imprimir el numero de iteraciones que toma para converger a la solcuion con una precision de $10^{-6}$.\n",
    "\n",
    "**c)** Ahora escriba un nuevo programa (o modifique el anterior) para resolver la misma ecuación $x=1-e^{-cx}$ para $c=2$, de nuevo con la precisión de de $10^{-6}$, pero esta vez usando la overrelajacion. El programa tiene que imprimir las respuestas que encuentra con el numero de iteraciones que tomo encontrarla. Experimente con diferentes valores de $\\omega $ para ver que tan rapido se puede obtener para que el metodo converga. Un valor de $\\omega =0.5$ es un punto de partida razonable. Con algo de prueba y error deberia obtener el calculo para converger al menos el doble de rapido que con el metodo de relajacion simple, es decir, con la mitad de iteraciones.\n",
    "\n",
    "**d)** Hay alguna circunstancia en la cual usando un valor de $\\omega <0$ podria ayudarnos a encontrar una solucion mas rapido que de la que obtenemos con el metodo ordinario de relajacion? (Pista: la respues es si, pero por que?)"
   ]
  },
  {
   "cell_type": "markdown",
   "metadata": {},
   "source": [
    "## Solción a)\n",
    "\n",
    "Partiendo de la definicion de $x^{*}$\n",
    "\n",
    "\\begin{equation}\n",
    "x^{*}=x'+\\varepsilon'  \\\\\n",
    "\\end{equation}\n",
    "\n",
    "Ahora, conociendo el valor de $x{}'$ para el metodo de overrelajacion\n",
    "\n",
    "\\begin{equation}\n",
    "x'=(1+\\omega)f(x)-\\omega x\n",
    "\\end{equation}\n",
    "\n",
    "Reemplazando $x{}'$ en $x^{*}$, obtenemos\n",
    "\n",
    "\\begin{equation}\n",
    "x^{*}=(1+\\omega)f(x)-\\omega x+\\varepsilon'\\\\\n",
    "f'(x^{*})=(1+\\omega)f'(x)-\\omega\n",
    "\\end{equation}\n",
    "\n",
    "Reescribiendo para obtener un estimado de $\\varepsilon' $ Ec.6.83\n",
    "\n",
    "\\begin{equation}\n",
    "\\varepsilon' =\\frac{x-x^{*}}{1-\\frac{1}{f'(x^{*})}}\n",
    "\\end{equation}\n",
    "\n",
    "Reemplazando los valores encontrados obtenemos\n",
    "\\begin{equation}\n",
    "\\varepsilon'=\\frac{x-x^{*}}{1-\\frac{1}{(1+\\omega)f'(x)-\\omega}}\n",
    "\\end{equation}\n",
    "\n"
   ]
  },
  {
   "cell_type": "markdown",
   "metadata": {},
   "source": [
    "## Solución b)"
   ]
  },
  {
   "cell_type": "code",
   "execution_count": 2,
   "metadata": {},
   "outputs": [
    {
     "data": {
      "image/png": "[encoded data removed]",
      "text/plain": [
       "<Figure size 432x288 with 1 Axes>"
      ]
     },
     "metadata": {
      "needs_background": "light"
     },
     "output_type": "display_data"
    },
    {
     "name": "stdout",
     "output_type": "stream",
     "text": [
      "Numero de iteraciones: 16\n",
      "0.7968113781935964\n"
     ]
    }
   ],
   "source": [
    "from pylab import plot,exp,show\n",
    "\n",
    "#Constantes\n",
    "x1 = 0.5\n",
    "c = 2\n",
    "accuracy = 1e-6\n",
    "error = 1.0\n",
    "\n",
    "#Lista para graficar\n",
    "x=[]\n",
    "x.append(x1)\n",
    "\n",
    "# Bucle hasta que el error sea lo suficiente pequeño\n",
    "while error>accuracy:\n",
    "    x1,x2 = 1-exp(-c*x1),x1\n",
    "    error = abs((x1-x2)/(1-1/(c*exp(-c*x2))))\n",
    "    x.append(x1)\n",
    "\n",
    "plot(x)\n",
    "show()\n",
    "print(\"Numero de iteraciones:\",len(x))\n",
    "print(x1)"
   ]
  },
  {
   "cell_type": "markdown",
   "metadata": {},
   "source": [
    "## Solución c) ($\\omega =0.5$)"
   ]
  },
  {
   "cell_type": "code",
   "execution_count": 16,
   "metadata": {},
   "outputs": [
    {
     "data": {
      "image/png": "[encoded data removed]",
      "text/plain": [
       "<Figure size 432x288 with 1 Axes>"
      ]
     },
     "metadata": {
      "needs_background": "light"
     },
     "output_type": "display_data"
    },
    {
     "name": "stdout",
     "output_type": "stream",
     "text": [
      "Numero de iteraciones: 8\n",
      "0.7968118293563258\n"
     ]
    }
   ],
   "source": [
    "from pylab import plot,exp,show\n",
    "\n",
    "#Constantes\n",
    "x1 = 0.5\n",
    "c = 2\n",
    "accuracy = 1e-6\n",
    "error = 1.0\n",
    "w = 0.5\n",
    "\n",
    "#Lista para graficar\n",
    "x=[]\n",
    "x.append(x1)\n",
    "\n",
    "# Bucle hasta que el error sea lo suficiente pequeño\n",
    "while error>accuracy:\n",
    "    x1,x2 = (1+w)*(1-exp(-c*x1))-w*x1,x1\n",
    "    error = abs((x1-x2)/(1-1/((1+w)*(c*exp(-c*x2))-w)))\n",
    "    x.append(x1)\n",
    "\n",
    "plot(x)\n",
    "show()\n",
    "print(\"Numero de iteraciones:\",len(x))\n",
    "print(x1)"
   ]
  },
  {
   "cell_type": "markdown",
   "metadata": {},
   "source": [
    "## Solución c) ($\\omega =0.7$)"
   ]
  },
  {
   "cell_type": "code",
   "execution_count": 17,
   "metadata": {},
   "outputs": [
    {
     "data": {
      "image/png": "[encoded data removed]",
      "text/plain": [
       "<Figure size 432x288 with 1 Axes>"
      ]
     },
     "metadata": {
      "needs_background": "light"
     },
     "output_type": "display_data"
    },
    {
     "name": "stdout",
     "output_type": "stream",
     "text": [
      "Numero de iteraciones: 5\n",
      "0.7968119295583808\n"
     ]
    }
   ],
   "source": [
    "from pylab import plot,exp,show\n",
    "\n",
    "#Constantes\n",
    "x1 = 0.5\n",
    "c = 2\n",
    "accuracy = 1e-6\n",
    "error = 1.0\n",
    "w = 0.7\n",
    "\n",
    "#Lista para graficar\n",
    "x=[]\n",
    "x.append(x1)\n",
    "\n",
    "# Bucle hasta que el error sea lo suficiente pequeño\n",
    "while error>accuracy:\n",
    "    x1,x2 = (1+w)*(1-exp(-c*x1))-w*x1,x1\n",
    "    error = abs((x1-x2)/(1-1/((1+w)*(c*exp(-c*x2))-w)))\n",
    "    x.append(x1)\n",
    "\n",
    "plot(x)\n",
    "show()\n",
    "print(\"Numero de iteraciones:\",len(x))\n",
    "print(x1)"
   ]
  },
  {
   "cell_type": "markdown",
   "metadata": {},
   "source": [
    "## Solución d)"
   ]
  },
  {
   "cell_type": "code",
   "execution_count": 9,
   "metadata": {},
   "outputs": [
    {
     "data": {
      "image/png": "[encoded data removed]",
      "text/plain": [
       "<Figure size 432x288 with 1 Axes>"
      ]
     },
     "metadata": {
      "needs_background": "light"
     },
     "output_type": "display_data"
    },
    {
     "name": "stdout",
     "output_type": "stream",
     "text": [
      "Numero de iteraciones: 65\n",
      "0.7968106882262778\n"
     ]
    }
   ],
   "source": [
    "from pylab import plot,exp,show\n",
    "\n",
    "#Constantes\n",
    "x1 = 0.5\n",
    "c = 2\n",
    "accuracy = 1e-6\n",
    "error = 1.0\n",
    "w = -0.7\n",
    "\n",
    "#Lista para graficar\n",
    "x=[]\n",
    "x.append(x1)\n",
    "\n",
    "# Bucle hasta que el error sea lo suficiente pequeño\n",
    "while error>accuracy:\n",
    "    x1,x2 = (1+w)*(1-exp(-c*x1))-w*x1,x1\n",
    "    error = abs((x1-x2)/(1-1/(1+w)*(c*exp(-c*x2))-w))\n",
    "    x.append(x1)\n",
    "\n",
    "plot(x)\n",
    "show()\n",
    "print(\"Numero de iteraciones:\",len(x))\n",
    "print(x1)"
   ]
  },
  {
   "cell_type": "markdown",
   "metadata": {},
   "source": [
    "Para esta función en especifico, si $\\omega $ toma un valor menor a cero, el numero de iteraciones se vera amplificada. Esto quiere decir que para este problema en especifico no es optimo usar $\\omega <0$.\n",
    "\n",
    "Pero ahora, suponiendo que la solción para una función en especifico esta en el lado negativo de $x$, es decir $x<0$, entonces tomar un valor negativo tambien para $\\omega $ recortaria el numero de iteraciones. Esto es debido a el comportamiento de $\\omega $ en la ecuación $x^{*}=(1+\\omega)f(x)-\\omega x+\\varepsilon'$.\n"
   ]
  },
  {
   "cell_type": "code",
   "execution_count": null,
   "metadata": {},
   "outputs": [],
   "source": []
  }
 ],
 "metadata": {
  "kernelspec": {
   "display_name": "Python 3",
   "language": "python",
   "name": "python3"
  },
  "language_info": {
   "codemirror_mode": {
    "name": "ipython",
    "version": 3
   },
   "file_extension": ".py",
   "mimetype": "text/x-python",
   "name": "python",
   "nbconvert_exporter": "python",
   "pygments_lexer": "ipython3",
   "version": "3.5.2"
  }
 },
 "nbformat": 4,
 "nbformat_minor": 2
}
